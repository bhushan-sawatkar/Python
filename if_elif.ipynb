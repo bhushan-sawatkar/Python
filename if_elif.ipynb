{
  "nbformat": 4,
  "nbformat_minor": 0,
  "metadata": {
    "colab": {
      "name": "if-elif.ipynb",
      "version": "0.3.2",
      "provenance": [],
      "include_colab_link": true
    },
    "kernelspec": {
      "name": "python3",
      "display_name": "Python 3"
    }
  },
  "cells": [
    {
      "cell_type": "markdown",
      "metadata": {
        "id": "view-in-github",
        "colab_type": "text"
      },
      "source": [
        "<a href=\"https://colab.research.google.com/github/knight-mare/Python/blob/master/if_elif.ipynb\" target=\"_parent\"><img src=\"https://colab.research.google.com/assets/colab-badge.svg\" alt=\"Open In Colab\"/></a>"
      ]
    },
    {
      "cell_type": "code",
      "metadata": {
        "id": "QxnNjOLdkfVW",
        "colab_type": "code",
        "colab": {}
      },
      "source": [
        "n=int(input(\"enter a number\"))\n",
        "if n%2 !=0:\n",
        "  print(\"weird\")\n",
        "elif n in range (2,5):\n",
        "  print(\"not weird\")\n",
        "elif n in range (6,21):\n",
        "  print(\"weird\")\n",
        "else:\n",
        "  print(\"not weird\")"
      ],
      "execution_count": 0,
      "outputs": []
    }
  ]
}